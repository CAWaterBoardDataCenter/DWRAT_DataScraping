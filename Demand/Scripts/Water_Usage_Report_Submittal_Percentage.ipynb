{
 "cells": [
  {
   "cell_type": "code",
   "execution_count": 3,
   "metadata": {},
   "outputs": [],
   "source": [
    "# Connect to ReportManager, 1542 server and the ReportDB database\n",
    "import pyodbc\n",
    "\n",
    "conn = pyodbc.connect(\n",
    "    'DRIVER={SQL Server};'\n",
    "    'SERVER=reportmanager,1542;'\n",
    "    'DATABASE=ReportDB;'\n",
    "    'Trusted_Connection=yes;'\n",
    ")"
   ]
  },
  {
   "cell_type": "code",
   "execution_count": 2,
   "metadata": {},
   "outputs": [],
   "source": [
    "# Import the Russian River POD List and whittle it down\n",
    "import pandas as pd\n",
    "rr_pod_file_path = r'C:\\Users\\palemi\\Water Boards\\Supply and Demand Assessment - Documents\\Program Watersheds\\1. Watershed Folders\\Test Watersheds\\Test_Russian\\Data\\GIS_Preprocessing\\TR_GIS_Preprocessing_2025-03-17.xlsx'\n",
    "rr_pods = pd.read_excel(rr_pod_file_path, sheet_name = 'Final_POD_List')\n",
    "\n",
    "# Remove all columns except for APPLICATION_NUMBER\n",
    "\n",
    "rr_pods = rr_pods[['APPLICATION_NUMBER']]\n",
    "# Rename the APPLICATION_NUMBER field in rr_pods to app_num\n",
    "rr_pods.rename(columns={'APPLICATION_NUMBER': 'app_number'}, inplace=True)\n",
    "\n",
    "# Grab unique application numbers\n",
    "rr_pods = rr_pods.drop_duplicates()"
   ]
  },
  {
   "cell_type": "code",
   "execution_count": 6,
   "metadata": {},
   "outputs": [
    {
     "name": "stderr",
     "output_type": "stream",
     "text": [
      "C:\\Users\\palemi\\AppData\\Local\\Temp\\1\\ipykernel_6676\\891764071.py:17: UserWarning: pandas only supports SQLAlchemy connectable (engine/connection) or database string URI or sqlite3 DBAPI2 connection. Other DBAPI2 objects are not tested. Please consider using SQLAlchemy.\n",
      "  ewrims_flat_file = pd.read_sql(query1, conn)\n",
      "C:\\Users\\palemi\\AppData\\Local\\Temp\\1\\ipykernel_6676\\891764071.py:18: UserWarning: pandas only supports SQLAlchemy connectable (engine/connection) or database string URI or sqlite3 DBAPI2 connection. Other DBAPI2 objects are not tested. Please consider using SQLAlchemy.\n",
      "  ewrims_flat_file_all = pd.read_sql(query2, conn)\n"
     ]
    },
    {
     "name": "stdout",
     "output_type": "stream",
     "text": [
      "  app_number Effective_Date\n",
      "0   18-09-02     07/11/2012\n",
      "1   24-02-02     05/23/2008\n",
      "2   28-36-01           None\n",
      "3      40-00           None\n",
      "4   40-03-08           None\n",
      "  WR_WATER_RIGHT_ID APPLICATION_NUMBER CERTIFICATE_ID PERMIT_ID LICENSE_ID  \\\n",
      "0                 1            T032025           None      None       None   \n",
      "1                10            A000052         000025    000013     000025   \n",
      "2               100            A000679         000871    000299     000871   \n",
      "3              1000            A005269         001173    002727     001173   \n",
      "4             10000            A024457         011352    016952     011352   \n",
      "\n",
      "   WATER_RIGHT_TYPE WATER_RIGHT_STATUS APPLICATION_NUMBER_PARTY PWSS_ID  \\\n",
      "0  Temporary Permit          Cancelled                  T032025    None   \n",
      "1     Appropriative           Licensed                  A000052    None   \n",
      "2     Appropriative           Licensed                  A000679    None   \n",
      "3     Appropriative           Licensed                  A005269    None   \n",
      "4     Appropriative           Licensed                  A024457    None   \n",
      "\n",
      "  PRIORITY_DATE  ... DATE_RECEIVED DATE_COMPLETED PET_LAST_UPDATE_DATE  \\\n",
      "0          None  ...          None           None                 None   \n",
      "1          None  ...          None           None                 None   \n",
      "2          None  ...          None           None                 None   \n",
      "3          None  ...          None           None                 None   \n",
      "4          None  ...          None           None                 None   \n",
      "\n",
      "  NUM_OF_PETITIONS ENF_CASE_NUMBER ENF_CASE_START_DATE ENF_CASE_CLOSURE_DATE  \\\n",
      "0             None            None                None                  None   \n",
      "1             None            None                None                  None   \n",
      "2             None            None                None                  None   \n",
      "3             None        ENF01957          05/05/2015            04/13/2017   \n",
      "4             None            None                None                  None   \n",
      "\n",
      "  ENF_CASE_COUNTY NUMBER_OF_ENFORCEMENT_CASE app_number  \n",
      "0            None                          0    T032025  \n",
      "1            None                          0    A000052  \n",
      "2            None                          0    A000679  \n",
      "3      Stanislaus                          2    A005269  \n",
      "4            None                          0    A024457  \n",
      "\n",
      "[5 rows x 172 columns]\n",
      "Number of matched water rights: 2207\n"
     ]
    },
    {
     "data": {
      "application/vnd.microsoft.datawrangler.viewer.v0+json": {
       "columns": [
        {
         "name": "index",
         "rawType": "int64",
         "type": "integer"
        },
        {
         "name": "app_number",
         "rawType": "object",
         "type": "string"
        },
        {
         "name": "Effective_Date",
         "rawType": "object",
         "type": "string"
        }
       ],
       "conversionMethod": "pd.DataFrame",
       "ref": "40703df1-911e-4e12-b605-8c7ee3c762f0",
       "rows": [
        [
         "0",
         "A001029",
         "01/15/1920"
        ],
        [
         "1",
         "A001205",
         "06/03/1920"
        ],
        [
         "2",
         "A001983",
         "08/26/1920"
        ],
        [
         "3",
         "A002723",
         "01/24/1927"
        ],
        [
         "4",
         "A002928",
         "07/14/1922"
        ],
        [
         "5",
         "A003421",
         "05/16/1923"
        ],
        [
         "6",
         "A003565",
         "08/03/1923"
        ],
        [
         "7",
         "A003601",
         "08/20/1923"
        ],
        [
         "8",
         "A003633",
         "04/18/1928"
        ],
        [
         "9",
         "A004307",
         "03/30/1928"
        ],
        [
         "10",
         "A004308",
         "04/13/1988"
        ],
        [
         "11",
         "A004612",
         "11/07/1930"
        ],
        [
         "12",
         "A004832",
         "11/12/1925"
        ],
        [
         "13",
         "A006464",
         "10/21/1929"
        ],
        [
         "14",
         "A006642",
         "04/16/1930"
        ],
        [
         "15",
         "A006805A",
         "09/26/1930"
        ],
        [
         "16",
         "A006854",
         "12/26/1930"
        ],
        [
         "17",
         "A006855",
         "12/26/1930"
        ],
        [
         "18",
         "A006926",
         "03/28/1931"
        ],
        [
         "19",
         "A007006",
         "05/26/1970"
        ]
       ],
       "shape": {
        "columns": 2,
        "rows": 20
       }
      },
      "text/html": [
       "<div>\n",
       "<style scoped>\n",
       "    .dataframe tbody tr th:only-of-type {\n",
       "        vertical-align: middle;\n",
       "    }\n",
       "\n",
       "    .dataframe tbody tr th {\n",
       "        vertical-align: top;\n",
       "    }\n",
       "\n",
       "    .dataframe thead th {\n",
       "        text-align: right;\n",
       "    }\n",
       "</style>\n",
       "<table border=\"1\" class=\"dataframe\">\n",
       "  <thead>\n",
       "    <tr style=\"text-align: right;\">\n",
       "      <th></th>\n",
       "      <th>app_number</th>\n",
       "      <th>Effective_Date</th>\n",
       "    </tr>\n",
       "  </thead>\n",
       "  <tbody>\n",
       "    <tr>\n",
       "      <th>0</th>\n",
       "      <td>A001029</td>\n",
       "      <td>01/15/1920</td>\n",
       "    </tr>\n",
       "    <tr>\n",
       "      <th>1</th>\n",
       "      <td>A001205</td>\n",
       "      <td>06/03/1920</td>\n",
       "    </tr>\n",
       "    <tr>\n",
       "      <th>2</th>\n",
       "      <td>A001983</td>\n",
       "      <td>08/26/1920</td>\n",
       "    </tr>\n",
       "    <tr>\n",
       "      <th>3</th>\n",
       "      <td>A002723</td>\n",
       "      <td>01/24/1927</td>\n",
       "    </tr>\n",
       "    <tr>\n",
       "      <th>4</th>\n",
       "      <td>A002928</td>\n",
       "      <td>07/14/1922</td>\n",
       "    </tr>\n",
       "    <tr>\n",
       "      <th>5</th>\n",
       "      <td>A003421</td>\n",
       "      <td>05/16/1923</td>\n",
       "    </tr>\n",
       "    <tr>\n",
       "      <th>6</th>\n",
       "      <td>A003565</td>\n",
       "      <td>08/03/1923</td>\n",
       "    </tr>\n",
       "    <tr>\n",
       "      <th>7</th>\n",
       "      <td>A003601</td>\n",
       "      <td>08/20/1923</td>\n",
       "    </tr>\n",
       "    <tr>\n",
       "      <th>8</th>\n",
       "      <td>A003633</td>\n",
       "      <td>04/18/1928</td>\n",
       "    </tr>\n",
       "    <tr>\n",
       "      <th>9</th>\n",
       "      <td>A004307</td>\n",
       "      <td>03/30/1928</td>\n",
       "    </tr>\n",
       "    <tr>\n",
       "      <th>10</th>\n",
       "      <td>A004308</td>\n",
       "      <td>04/13/1988</td>\n",
       "    </tr>\n",
       "    <tr>\n",
       "      <th>11</th>\n",
       "      <td>A004612</td>\n",
       "      <td>11/07/1930</td>\n",
       "    </tr>\n",
       "    <tr>\n",
       "      <th>12</th>\n",
       "      <td>A004832</td>\n",
       "      <td>11/12/1925</td>\n",
       "    </tr>\n",
       "    <tr>\n",
       "      <th>13</th>\n",
       "      <td>A006464</td>\n",
       "      <td>10/21/1929</td>\n",
       "    </tr>\n",
       "    <tr>\n",
       "      <th>14</th>\n",
       "      <td>A006642</td>\n",
       "      <td>04/16/1930</td>\n",
       "    </tr>\n",
       "    <tr>\n",
       "      <th>15</th>\n",
       "      <td>A006805A</td>\n",
       "      <td>09/26/1930</td>\n",
       "    </tr>\n",
       "    <tr>\n",
       "      <th>16</th>\n",
       "      <td>A006854</td>\n",
       "      <td>12/26/1930</td>\n",
       "    </tr>\n",
       "    <tr>\n",
       "      <th>17</th>\n",
       "      <td>A006855</td>\n",
       "      <td>12/26/1930</td>\n",
       "    </tr>\n",
       "    <tr>\n",
       "      <th>18</th>\n",
       "      <td>A006926</td>\n",
       "      <td>03/28/1931</td>\n",
       "    </tr>\n",
       "    <tr>\n",
       "      <th>19</th>\n",
       "      <td>A007006</td>\n",
       "      <td>05/26/1970</td>\n",
       "    </tr>\n",
       "  </tbody>\n",
       "</table>\n",
       "</div>"
      ],
      "text/plain": [
       "   app_number Effective_Date\n",
       "0     A001029     01/15/1920\n",
       "1     A001205     06/03/1920\n",
       "2     A001983     08/26/1920\n",
       "3     A002723     01/24/1927\n",
       "4     A002928     07/14/1922\n",
       "5     A003421     05/16/1923\n",
       "6     A003565     08/03/1923\n",
       "7     A003601     08/20/1923\n",
       "8     A003633     04/18/1928\n",
       "9     A004307     03/30/1928\n",
       "10    A004308     04/13/1988\n",
       "11    A004612     11/07/1930\n",
       "12    A004832     11/12/1925\n",
       "13    A006464     10/21/1929\n",
       "14    A006642     04/16/1930\n",
       "15   A006805A     09/26/1930\n",
       "16    A006854     12/26/1930\n",
       "17    A006855     12/26/1930\n",
       "18    A006926     03/28/1931\n",
       "19    A007006     05/26/1970"
      ]
     },
     "execution_count": 6,
     "metadata": {},
     "output_type": "execute_result"
    }
   ],
   "source": [
    "import pandas as pd\n",
    "\n",
    "# Inner Join rr_pods to the ewrims_flat_file SQL server table on the APPLICATION_NUMBER column\n",
    "query1 = \"\"\"\n",
    "SELECT DISTINCT\n",
    "    Application_Number AS app_number,\n",
    "    Effective_Date\n",
    "FROM ReportDB.FLAT_FILE.ewrims_flat_file\n",
    "\"\"\"\n",
    "\n",
    "query2 = \"\"\"\n",
    "SELECT DISTINCT *, Application_Number AS app_number\n",
    "FROM ReportDB.FLAT_FILE.ewrims_flat_file\n",
    "\"\"\"\n",
    "\n",
    "# Read the SQL query results into DataFrames\n",
    "ewrims_flat_file = pd.read_sql(query1, conn)\n",
    "ewrims_flat_file_all = pd.read_sql(query2, conn)\n",
    "\n",
    "# Preview the result\n",
    "print(ewrims_flat_file.head())\n",
    "print(ewrims_flat_file_all.head())\n",
    "\n",
    "# Perform inner join on APPLICATION_NUMBER\n",
    "rr_pods_flat_file= pd.merge(rr_pods, ewrims_flat_file, on='app_number', how='inner')\n",
    "rr_pods_flat_file_all = pd.merge(rr_pods,ewrims_flat_file_all, on = 'app_number', how = 'inner')\n",
    "\n",
    "print(f\"Number of matched water rights: {len(rr_pods_flat_file)}\")\n",
    "rr_pods_flat_file.head(20)"
   ]
  },
  {
   "cell_type": "code",
   "execution_count": 7,
   "metadata": {},
   "outputs": [
    {
     "data": {
      "application/vnd.microsoft.datawrangler.viewer.v0+json": {
       "columns": [
        {
         "name": "index",
         "rawType": "int64",
         "type": "integer"
        },
        {
         "name": "Year",
         "rawType": "int64",
         "type": "integer"
        },
        {
         "name": "Eligible_Count",
         "rawType": "int64",
         "type": "integer"
        }
       ],
       "conversionMethod": "pd.DataFrame",
       "ref": "9dd194dd-2872-417b-bdef-d5d01ac449d9",
       "rows": [
        [
         "0",
         "2017",
         "2006"
        ],
        [
         "1",
         "2018",
         "2096"
        ],
        [
         "2",
         "2019",
         "2133"
        ],
        [
         "3",
         "2020",
         "2155"
        ],
        [
         "4",
         "2021",
         "2162"
        ],
        [
         "5",
         "2022",
         "2168"
        ],
        [
         "6",
         "2023",
         "2181"
        ],
        [
         "7",
         "2024",
         "2194"
        ]
       ],
       "shape": {
        "columns": 2,
        "rows": 8
       }
      },
      "text/html": [
       "<div>\n",
       "<style scoped>\n",
       "    .dataframe tbody tr th:only-of-type {\n",
       "        vertical-align: middle;\n",
       "    }\n",
       "\n",
       "    .dataframe tbody tr th {\n",
       "        vertical-align: top;\n",
       "    }\n",
       "\n",
       "    .dataframe thead th {\n",
       "        text-align: right;\n",
       "    }\n",
       "</style>\n",
       "<table border=\"1\" class=\"dataframe\">\n",
       "  <thead>\n",
       "    <tr style=\"text-align: right;\">\n",
       "      <th></th>\n",
       "      <th>Year</th>\n",
       "      <th>Eligible_Count</th>\n",
       "    </tr>\n",
       "  </thead>\n",
       "  <tbody>\n",
       "    <tr>\n",
       "      <th>0</th>\n",
       "      <td>2017</td>\n",
       "      <td>2006</td>\n",
       "    </tr>\n",
       "    <tr>\n",
       "      <th>1</th>\n",
       "      <td>2018</td>\n",
       "      <td>2096</td>\n",
       "    </tr>\n",
       "    <tr>\n",
       "      <th>2</th>\n",
       "      <td>2019</td>\n",
       "      <td>2133</td>\n",
       "    </tr>\n",
       "    <tr>\n",
       "      <th>3</th>\n",
       "      <td>2020</td>\n",
       "      <td>2155</td>\n",
       "    </tr>\n",
       "    <tr>\n",
       "      <th>4</th>\n",
       "      <td>2021</td>\n",
       "      <td>2162</td>\n",
       "    </tr>\n",
       "    <tr>\n",
       "      <th>5</th>\n",
       "      <td>2022</td>\n",
       "      <td>2168</td>\n",
       "    </tr>\n",
       "    <tr>\n",
       "      <th>6</th>\n",
       "      <td>2023</td>\n",
       "      <td>2181</td>\n",
       "    </tr>\n",
       "    <tr>\n",
       "      <th>7</th>\n",
       "      <td>2024</td>\n",
       "      <td>2194</td>\n",
       "    </tr>\n",
       "  </tbody>\n",
       "</table>\n",
       "</div>"
      ],
      "text/plain": [
       "   Year  Eligible_Count\n",
       "0  2017            2006\n",
       "1  2018            2096\n",
       "2  2019            2133\n",
       "3  2020            2155\n",
       "4  2021            2162\n",
       "5  2022            2168\n",
       "6  2023            2181\n",
       "7  2024            2194"
      ]
     },
     "execution_count": 7,
     "metadata": {},
     "output_type": "execute_result"
    }
   ],
   "source": [
    "# Ensure Effective_Date is a datetime object\n",
    "rr_pods_flat_file['Effective_Date'] = pd.to_datetime(rr_pods_flat_file['Effective_Date'], errors='coerce')\n",
    "\n",
    "# Define years for eligibility tagging\n",
    "years = list(range(2017, 2025))\n",
    "\n",
    "# Apply eligibility logic based on Effective_Date\n",
    "for year in years:\n",
    "    cutoff = pd.to_datetime(f'{year - 1}-12-31')\n",
    "    rr_pods_flat_file[f'Eligible_{year}'] = rr_pods_flat_file['Effective_Date'].apply(\n",
    "        lambda x: 'Y' if pd.notnull(x) and x <= cutoff else 'N'\n",
    "    )\n",
    "\n",
    "# Preview relevant columns\n",
    "columns_to_show = ['app_number', 'Effective_Date'] + [f'Eligible_{y}' for y in years]\n",
    "rr_pods_flat_file[columns_to_show].head(10)\n",
    "\n",
    "# Count Eligible Rights By Year--create a summary table\n",
    "\n",
    "# Initialize an empty list to collect summary data\n",
    "# Initialize an empty list to collect summary data\n",
    "eligibility_counts = []\n",
    "\n",
    "# Loop through each Eligible column and count the Ys\n",
    "for year in range(2017, 2025):\n",
    "    col_name = f'Eligible_{year}'\n",
    "    count = rr_pods_flat_file[col_name].value_counts().get('Y', 0)\n",
    "    eligibility_counts.append({'Year': year, 'Eligible_Count': count})  # <-- needs to be indented!\n",
    "\n",
    "\n",
    "eligibility_summary_df = pd.DataFrame(eligibility_counts)\n",
    "eligibility_summary_df"
   ]
  },
  {
   "cell_type": "code",
   "execution_count": 5,
   "metadata": {},
   "outputs": [
    {
     "name": "stdout",
     "output_type": "stream",
     "text": [
      "['WATER_RIGHT_ID', 'APPL_ID', 'YEAR', 'MONTH', 'AMOUNT', 'DIVERSION_TYPE']\n"
     ]
    },
    {
     "name": "stderr",
     "output_type": "stream",
     "text": [
      "C:\\Users\\palemi\\AppData\\Local\\Temp\\1\\ipykernel_12040\\656057150.py:2: UserWarning: pandas only supports SQLAlchemy connectable (engine/connection) or database string URI or sqlite3 DBAPI2 connection. Other DBAPI2 objects are not tested. Please consider using SQLAlchemy.\n",
      "  test_df = pd.read_sql(test_query, conn)\n"
     ]
    }
   ],
   "source": [
    "test_query = \"SELECT TOP 5 * FROM ReportDB.FLAT_FILE.ewrims_water_use_report\"\n",
    "test_df = pd.read_sql(test_query, conn)\n",
    "\n",
    "# Print all column names\n",
    "print(test_df.columns.tolist())"
   ]
  },
  {
   "cell_type": "code",
   "execution_count": 6,
   "metadata": {},
   "outputs": [
    {
     "name": "stderr",
     "output_type": "stream",
     "text": [
      "C:\\Users\\palemi\\AppData\\Local\\Temp\\1\\ipykernel_12040\\859341524.py:31: UserWarning: pandas only supports SQLAlchemy connectable (engine/connection) or database string URI or sqlite3 DBAPI2 connection. Other DBAPI2 objects are not tested. Please consider using SQLAlchemy.\n",
      "  report_df = pd.read_sql(query, conn)\n"
     ]
    },
    {
     "name": "stdout",
     "output_type": "stream",
     "text": [
      "Retrieved 15403 rows from filtered report table.\n"
     ]
    }
   ],
   "source": [
    "# Import ewrims_flat_file_water_report (but just the rights in the Russian River)\n",
    "\n",
    "# Get unique app_numbers in the Russian River as a list of strings\n",
    "app_numbers = rr_pods_flat_file['app_number'].dropna().unique().tolist()\n",
    "\n",
    "# Create a DataFrame of unique app_numbers\n",
    "app_numbers_df = pd.DataFrame({'app_number': app_numbers})\n",
    "\n",
    "\n",
    "cursor = conn.cursor()\n",
    "\n",
    "# Drop temp table if it exists (to be safe)\n",
    "cursor.execute(\"IF OBJECT_ID('tempdb..#AppNumbers') IS NOT NULL DROP TABLE #AppNumbers\")\n",
    "cursor.execute(\"CREATE TABLE #AppNumbers (app_number NVARCHAR(50))\")\n",
    "\n",
    "# Insert values into the temp table\n",
    "for app in app_numbers:\n",
    "    cursor.execute(\"INSERT INTO #AppNumbers (app_number) VALUES (?)\", app)\n",
    "\n",
    "conn.commit()\n",
    "\n",
    "query = \"\"\"\n",
    "SELECT Distinct\n",
    " R.APPL_ID As Application_Number, \n",
    " R.Year\n",
    "FROM ReportDB.FLAT_FILE.ewrims_water_use_report R\n",
    "INNER JOIN #AppNumbers A ON R.APPL_ID = A.app_number\n",
    "WHERE YEAR>= 2017\n",
    "\"\"\"\n",
    "\n",
    "report_df = pd.read_sql(query, conn)\n",
    "print(f\"Retrieved {len(report_df)} rows from filtered report table.\")\n"
   ]
  },
  {
   "cell_type": "code",
   "execution_count": 19,
   "metadata": {},
   "outputs": [],
   "source": [
    "# CALCULATING REPORTING PERCENTAGES\n",
    "\n",
    "# Initialize an empty list to contain the results\n",
    "reporting_summary = []\n",
    "\n",
    "# year = 2024 # Use this for a single iteration of the loop\n",
    "for year in range(2017,2025):\n",
    "    eligible_col = f'Eligible_{year}'\n",
    "\n",
    "    # Step 1: Get all eligible rights for this year\n",
    "    eligible_df = rr_pods_flat_file[rr_pods_flat_file[eligible_col] == 'Y']\n",
    "    eligible_apps = set(eligible_df['app_number'])\n",
    "\n",
    "    # Step 2: Get all reported rights for this year from the report table\n",
    "    report_df['Year'] = report_df['Year'].astype(int) # Convert the Year column to an integer type\n",
    "    reported_df_year = report_df[report_df['Year'] == year]\n",
    "    reported_apps = set(reported_df_year['Application_Number'])\n",
    "\n",
    "    #Step 3: Intersect the 2 datasets to find the eligible rights that submitted reports\n",
    "    matched_reports = eligible_apps & reported_apps\n",
    "\n",
    "    # Step 4: Count the reports and calculate the percentages\n",
    "    eligible_count = len(eligible_apps)\n",
    "    reported_count = len(matched_reports)\n",
    "    percentage = round(reported_count/eligible_count * 100, 2) if eligible_count > 0 else 0\n",
    "\n",
    "    # Step 5: Store the results in the reporting_summary list\n",
    "    reporting_summary.append({\n",
    "        'Year': year,\n",
    "        'Eligible_Count': eligible_count,\n",
    "        'Reported_Count': reported_count,\n",
    "        'Reporting_Percentage': percentage\n",
    "    })\n",
    "\n",
    "# Convert the reporting_summary list into a DataFrame\n",
    "reporting_summary_df = pd.DataFrame(reporting_summary)\n",
    "\n",
    "# Export report_summary_df as a csv\n",
    "reporting_summary_df.to_csv(\"OutputData/reporting_summary_df_RR.csv\", index = False)  "
   ]
  },
  {
   "cell_type": "code",
   "execution_count": 17,
   "metadata": {},
   "outputs": [
    {
     "data": {
      "text/plain": [
       "'c:\\\\Users\\\\palemi\\\\Documents\\\\GitHub\\\\SDU_DWRAT_Outputs'"
      ]
     },
     "execution_count": 17,
     "metadata": {},
     "output_type": "execute_result"
    }
   ],
   "source": [
    "import os\n",
    "os.getcwd()\n"
   ]
  }
 ],
 "metadata": {
  "kernelspec": {
   "display_name": "py4wrds",
   "language": "python",
   "name": "python3"
  },
  "language_info": {
   "codemirror_mode": {
    "name": "ipython",
    "version": 3
   },
   "file_extension": ".py",
   "mimetype": "text/x-python",
   "name": "python",
   "nbconvert_exporter": "python",
   "pygments_lexer": "ipython3",
   "version": "3.13.1"
  }
 },
 "nbformat": 4,
 "nbformat_minor": 2
}
